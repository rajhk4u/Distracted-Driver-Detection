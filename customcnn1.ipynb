{
 "cells": [
  {
   "cell_type": "markdown",
   "id": "d742199a",
   "metadata": {
    "papermill": {
     "duration": 0.006765,
     "end_time": "2023-05-05T13:52:20.051027",
     "exception": false,
     "start_time": "2023-05-05T13:52:20.044262",
     "status": "completed"
    },
    "tags": []
   },
   "source": [
    "# IPML Project: Implementing CNN model from scratch"
   ]
  },
  {
   "cell_type": "markdown",
   "id": "7a04be3a",
   "metadata": {
    "papermill": {
     "duration": 0.005419,
     "end_time": "2023-05-05T13:52:20.062274",
     "exception": false,
     "start_time": "2023-05-05T13:52:20.056855",
     "status": "completed"
    },
    "tags": []
   },
   "source": [
    "# Creating Custom CNN (VR-Net)"
   ]
  },
  {
   "cell_type": "code",
   "execution_count": 1,
   "id": "438d2052",
   "metadata": {
    "execution": {
     "iopub.execute_input": "2023-05-05T13:52:20.075516Z",
     "iopub.status.busy": "2023-05-05T13:52:20.075026Z",
     "iopub.status.idle": "2023-05-05T13:52:28.344246Z",
     "shell.execute_reply": "2023-05-05T13:52:28.343145Z"
    },
    "papermill": {
     "duration": 8.279345,
     "end_time": "2023-05-05T13:52:28.347304",
     "exception": false,
     "start_time": "2023-05-05T13:52:20.067959",
     "status": "completed"
    },
    "tags": []
   },
   "outputs": [],
   "source": [
    "# Importing necessary libraries\n",
    "import os\n",
    "import pandas as pd\n",
    "import pickle\n",
    "import numpy as np\n",
    "import seaborn as sns\n",
    "import secrets\n",
    "import cv2\n",
    "from PIL import Image\n",
    "from PIL import ImageFile\n",
    "from sklearn.datasets import load_files\n",
    "from keras.utils import np_utils\n",
    "import matplotlib.pyplot as plt\n",
    "from keras.layers import Conv2D, MaxPooling2D, GlobalAveragePooling2D\n",
    "from keras.layers import Dropout, Flatten, Dense\n",
    "from keras.models import Sequential\n",
    "from keras.utils.vis_utils import plot_model\n",
    "from keras.callbacks import ModelCheckpoint\n",
    "from keras.utils import to_categorical\n",
    "from sklearn.metrics import confusion_matrix\n",
    "from keras.preprocessing import image                  \n",
    "from tqdm import tqdm\n",
    "from tensorflow.keras.preprocessing.image import ImageDataGenerator\n",
    "\n",
    "import seaborn as sns\n",
    "from sklearn.metrics import accuracy_score,precision_score,recall_score,f1_score"
   ]
  },
  {
   "cell_type": "code",
   "execution_count": 2,
   "id": "aa59e274",
   "metadata": {
    "execution": {
     "iopub.execute_input": "2023-05-05T13:52:28.360129Z",
     "iopub.status.busy": "2023-05-05T13:52:28.359491Z",
     "iopub.status.idle": "2023-05-05T13:52:28.364271Z",
     "shell.execute_reply": "2023-05-05T13:52:28.363288Z"
    },
    "papermill": {
     "duration": 0.013512,
     "end_time": "2023-05-05T13:52:28.366582",
     "exception": false,
     "start_time": "2023-05-05T13:52:28.353070",
     "status": "completed"
    },
    "tags": []
   },
   "outputs": [],
   "source": [
    "# Saving the path for train data\n",
    "trainDir = \"/kaggle/input/c/state-farm-distracted-driver-detection/imgs/train\"\n",
    "testDir = \"/kaggle/input/c/state-farm-distracted-driver-detection/imgs/test\"\n",
    "# Saving the path for models\n",
    "modelPath = \"/kaggle/working/model\"\n"
   ]
  },
  {
   "cell_type": "markdown",
   "id": "335ca51d",
   "metadata": {
    "papermill": {
     "duration": 0.005241,
     "end_time": "2023-05-05T13:52:28.377031",
     "exception": false,
     "start_time": "2023-05-05T13:52:28.371790",
     "status": "completed"
    },
    "tags": []
   },
   "source": [
    "# Pre-processing the data"
   ]
  },
  {
   "cell_type": "code",
   "execution_count": 3,
   "id": "f4f77d3c",
   "metadata": {
    "execution": {
     "iopub.execute_input": "2023-05-05T13:52:28.388677Z",
     "iopub.status.busy": "2023-05-05T13:52:28.388401Z",
     "iopub.status.idle": "2023-05-05T13:52:28.394296Z",
     "shell.execute_reply": "2023-05-05T13:52:28.393286Z"
    },
    "papermill": {
     "duration": 0.01416,
     "end_time": "2023-05-05T13:52:28.396370",
     "exception": false,
     "start_time": "2023-05-05T13:52:28.382210",
     "status": "completed"
    },
    "tags": []
   },
   "outputs": [],
   "source": [
    "def increaseBrightness(img, value):\n",
    "    # Converting BGR to HSV space\n",
    "    hsv = cv2.cvtColor(img, cv2.COLOR_BGR2HSV)\n",
    "    \n",
    "    # Splitting into individual channels as we need to deal with brightness i.e. \"v\"\n",
    "    h, s, v = cv2.split(hsv)\n",
    "\n",
    "    # Just making sure the value doesn't exceed the limit i.e. 255\n",
    "    lim = 255 - value\n",
    "    \n",
    "    v[v > lim] = 255\n",
    "    v[v <= lim] += value\n",
    "\n",
    "    final_hsv = cv2.merge((h, s, v))\n",
    "    \n",
    "    # Converting it back to BGR\n",
    "    img = cv2.cvtColor(final_hsv, cv2.COLOR_HSV2BGR)\n",
    "    return img"
   ]
  },
  {
   "cell_type": "code",
   "execution_count": 4,
   "id": "48187353",
   "metadata": {
    "execution": {
     "iopub.execute_input": "2023-05-05T13:52:28.408178Z",
     "iopub.status.busy": "2023-05-05T13:52:28.407901Z",
     "iopub.status.idle": "2023-05-05T13:52:28.413659Z",
     "shell.execute_reply": "2023-05-05T13:52:28.412694Z"
    },
    "papermill": {
     "duration": 0.014051,
     "end_time": "2023-05-05T13:52:28.415829",
     "exception": false,
     "start_time": "2023-05-05T13:52:28.401778",
     "status": "completed"
    },
    "tags": []
   },
   "outputs": [],
   "source": [
    "def changeContrast(img, level):\n",
    "    # Converting image to PIL object\n",
    "    img = Image.fromarray(img.astype('uint8'))\n",
    "    # Calculationg a factor.\n",
    "    # Multipled by 259 so as to scale the value in the range 0-255\n",
    "    # Ensures that the pixel values are not clipped, and the full range of 0-255 is used.\n",
    "    \n",
    "    # (From grayscale to RBG when multipled by 255 can clip pixels if contrast is high)\n",
    "    # Thus using maximum value that can be obtained from the formula\n",
    "    # Y = 0.299 * 255 + 0.587 * 255 + 0.114 * 255 = 259\n",
    "    factor = (259 * (level + 255)) / (255 * (259 - level))\n",
    "    \n",
    "    # Helper function - applying contrast to every pixel\n",
    "    def contrast(c):\n",
    "        return int(128 + factor * (c - 128))\n",
    "    return np.array(img.point(contrast))"
   ]
  },
  {
   "cell_type": "code",
   "execution_count": 5,
   "id": "2aafd95a",
   "metadata": {
    "execution": {
     "iopub.execute_input": "2023-05-05T13:52:28.428689Z",
     "iopub.status.busy": "2023-05-05T13:52:28.427802Z",
     "iopub.status.idle": "2023-05-05T13:52:28.434122Z",
     "shell.execute_reply": "2023-05-05T13:52:28.433250Z"
    },
    "papermill": {
     "duration": 0.014735,
     "end_time": "2023-05-05T13:52:28.436150",
     "exception": false,
     "start_time": "2023-05-05T13:52:28.421415",
     "status": "completed"
    },
    "tags": []
   },
   "outputs": [],
   "source": [
    "def preprocessImg(img):\n",
    "    img = np.array(img)\n",
    "\n",
    "    # Randomly setting the order of operations.\n",
    "    x = secrets.randbelow(2)\n",
    "\n",
    "    if x == 0:\n",
    "        #Order 01\n",
    "        img = increaseBrightness(img, secrets.randbelow(26))\n",
    "        img = changeContrast(img, secrets.randbelow(51))\n",
    "    else:\n",
    "        #Order 02\n",
    "        img = changeContrast(img, secrets.randbelow(51))\n",
    "        img = increaseBrightness(img, secrets.randbelow(26))\n",
    "\n",
    "    # Convert the pixel values back to integer format\n",
    "    # img = img.astype(np.uint8)\n",
    "    return img"
   ]
  },
  {
   "cell_type": "code",
   "execution_count": 6,
   "id": "a6cc84ec",
   "metadata": {
    "execution": {
     "iopub.execute_input": "2023-05-05T13:52:28.448082Z",
     "iopub.status.busy": "2023-05-05T13:52:28.447312Z",
     "iopub.status.idle": "2023-05-05T13:52:38.531547Z",
     "shell.execute_reply": "2023-05-05T13:52:38.530341Z"
    },
    "papermill": {
     "duration": 10.093481,
     "end_time": "2023-05-05T13:52:38.534771",
     "exception": false,
     "start_time": "2023-05-05T13:52:28.441290",
     "status": "completed"
    },
    "tags": []
   },
   "outputs": [
    {
     "name": "stdout",
     "output_type": "stream",
     "text": [
      "Collecting split-folders\r\n",
      "  Downloading split_folders-0.5.1-py3-none-any.whl (8.4 kB)\r\n",
      "Installing collected packages: split-folders\r\n",
      "Successfully installed split-folders-0.5.1\r\n",
      "\u001b[33mWARNING: Running pip as the 'root' user can result in broken permissions and conflicting behaviour with the system package manager. It is recommended to use a virtual environment instead: https://pip.pypa.io/warnings/venv\u001b[0m\u001b[33m\r\n",
      "\u001b[0m"
     ]
    }
   ],
   "source": [
    "!pip install split-folders"
   ]
  },
  {
   "cell_type": "code",
   "execution_count": 7,
   "id": "b23bdad4",
   "metadata": {
    "execution": {
     "iopub.execute_input": "2023-05-05T13:52:38.549323Z",
     "iopub.status.busy": "2023-05-05T13:52:38.548678Z",
     "iopub.status.idle": "2023-05-05T13:55:13.708931Z",
     "shell.execute_reply": "2023-05-05T13:55:13.706663Z"
    },
    "papermill": {
     "duration": 155.169248,
     "end_time": "2023-05-05T13:55:13.711082",
     "exception": false,
     "start_time": "2023-05-05T13:52:38.541834",
     "status": "completed"
    },
    "tags": []
   },
   "outputs": [
    {
     "name": "stderr",
     "output_type": "stream",
     "text": [
      "Copying files: 22424 files [02:35, 144.54 files/s]\n"
     ]
    }
   ],
   "source": [
    "import splitfolders\n",
    "\n",
    "mydata = '/kaggle/input/state-farm-distracted-driver-detection/imgs/train'\n",
    "splitfolders.ratio(mydata, output=\"mydata\",\n",
    "    seed=1337, ratio=(.7, .1, .2), group_prefix=None, move=False)"
   ]
  },
  {
   "cell_type": "code",
   "execution_count": 8,
   "id": "4e1cb938",
   "metadata": {
    "execution": {
     "iopub.execute_input": "2023-05-05T13:55:13.840833Z",
     "iopub.status.busy": "2023-05-05T13:55:13.840108Z",
     "iopub.status.idle": "2023-05-05T13:55:13.845085Z",
     "shell.execute_reply": "2023-05-05T13:55:13.843933Z"
    },
    "papermill": {
     "duration": 0.072639,
     "end_time": "2023-05-05T13:55:13.847301",
     "exception": false,
     "start_time": "2023-05-05T13:55:13.774662",
     "status": "completed"
    },
    "tags": []
   },
   "outputs": [],
   "source": [
    "train = '/kaggle/working/mydata/train'\n",
    "val = '/kaggle/working/mydata/val'\n",
    "test = '/kaggle/working/mydata/test'"
   ]
  },
  {
   "cell_type": "code",
   "execution_count": 9,
   "id": "3dd03dc8",
   "metadata": {
    "execution": {
     "iopub.execute_input": "2023-05-05T13:55:13.975929Z",
     "iopub.status.busy": "2023-05-05T13:55:13.975624Z",
     "iopub.status.idle": "2023-05-05T13:55:13.980019Z",
     "shell.execute_reply": "2023-05-05T13:55:13.978938Z"
    },
    "papermill": {
     "duration": 0.071183,
     "end_time": "2023-05-05T13:55:13.982646",
     "exception": false,
     "start_time": "2023-05-05T13:55:13.911463",
     "status": "completed"
    },
    "tags": []
   },
   "outputs": [],
   "source": [
    "# from keras.preprocessing.image import ImageDataGenerator\n",
    "\n",
    "# train_datagen = ImageDataGenerator(rescale=1./255)\n",
    "# test_datagen = ImageDataGenerator(rescale=1./255)\n",
    "\n",
    "# batch_size = 128\n",
    "\n",
    "# train_generator = train_datagen.flow_from_directory(\n",
    "#         train,\n",
    "#         target_size=(256, 256),\n",
    "#         batch_size=128)\n",
    "\n",
    "# validation_generator = test_datagen.flow_from_directory(\n",
    "#         val,\n",
    "#         target_size=(256, 256),\n",
    "#         batch_size=128)\n",
    "     "
   ]
  },
  {
   "cell_type": "code",
   "execution_count": 10,
   "id": "2b0b2eeb",
   "metadata": {
    "execution": {
     "iopub.execute_input": "2023-05-05T13:55:14.109358Z",
     "iopub.status.busy": "2023-05-05T13:55:14.109062Z",
     "iopub.status.idle": "2023-05-05T13:55:14.114906Z",
     "shell.execute_reply": "2023-05-05T13:55:14.113906Z"
    },
    "papermill": {
     "duration": 0.0717,
     "end_time": "2023-05-05T13:55:14.117056",
     "exception": false,
     "start_time": "2023-05-05T13:55:14.045356",
     "status": "completed"
    },
    "tags": []
   },
   "outputs": [],
   "source": [
    "#Initialise the parameters for Augmentation.\n",
    "\n",
    "# Change RGB to Gray scale there is a parameter\n",
    "# Also don't augment validation data.\n",
    "# Also see for Batch Normalization\n",
    "\n",
    "datagen = ImageDataGenerator(\n",
    "        rotation_range = 5,\n",
    "        width_shift_range = 0.02,\n",
    "        height_shift_range = 0.02,\n",
    "        shear_range = 0.01,\n",
    "        zoom_range = 0.05,\n",
    "        horizontal_flip = False,\n",
    "        fill_mode = \"nearest\",\n",
    "        validation_split = 0.2,\n",
    "#         color_mode=\"grayscale\",\n",
    "        preprocessing_function = preprocessImg)\n",
    "\n",
    "datagen_test = ImageDataGenerator(\n",
    "    preprocessing_function= preprocessImg\n",
    ")"
   ]
  },
  {
   "cell_type": "code",
   "execution_count": 11,
   "id": "2727b273",
   "metadata": {
    "execution": {
     "iopub.execute_input": "2023-05-05T13:55:14.243397Z",
     "iopub.status.busy": "2023-05-05T13:55:14.243110Z",
     "iopub.status.idle": "2023-05-05T13:55:14.794644Z",
     "shell.execute_reply": "2023-05-05T13:55:14.793712Z"
    },
    "papermill": {
     "duration": 0.617109,
     "end_time": "2023-05-05T13:55:14.796829",
     "exception": false,
     "start_time": "2023-05-05T13:55:14.179720",
     "status": "completed"
    },
    "tags": []
   },
   "outputs": [
    {
     "name": "stdout",
     "output_type": "stream",
     "text": [
      "Found 15692 images belonging to 10 classes.\n",
      "Found 2237 images belonging to 10 classes.\n",
      "Found 4495 images belonging to 10 classes.\n"
     ]
    }
   ],
   "source": [
    "train_data = datagen.flow_from_directory(train,\n",
    "                                        target_size=(224,224), # Image size\n",
    "                                        batch_size=128, # Batch size\n",
    "                                        shuffle=True,\n",
    "                                        class_mode='sparse')\n",
    "\n",
    "valid_data = datagen_test.flow_from_directory(val,\n",
    "                                        target_size=(224,224),\n",
    "                                        batch_size=128,\n",
    "                                        shuffle=True,\n",
    "                                        class_mode='sparse')\n",
    "test_data = datagen_test.flow_from_directory(test,\n",
    "                                        target_size=(224,224),\n",
    "                                        batch_size=128,\n",
    "                                        shuffle=True,\n",
    "                                        class_mode='sparse')"
   ]
  },
  {
   "cell_type": "code",
   "execution_count": 12,
   "id": "917d3ee9",
   "metadata": {
    "execution": {
     "iopub.execute_input": "2023-05-05T13:55:14.929004Z",
     "iopub.status.busy": "2023-05-05T13:55:14.928006Z",
     "iopub.status.idle": "2023-05-05T13:55:15.682254Z",
     "shell.execute_reply": "2023-05-05T13:55:15.681069Z"
    },
    "papermill": {
     "duration": 0.822577,
     "end_time": "2023-05-05T13:55:15.685530",
     "exception": false,
     "start_time": "2023-05-05T13:55:14.862953",
     "status": "completed"
    },
    "tags": []
   },
   "outputs": [
    {
     "name": "stdout",
     "output_type": "stream",
     "text": [
      "[[[ 11.  11.  11.]\n",
      "  [ 11.  11.  11.]\n",
      "  [ 11.  11.  11.]\n",
      "  ...\n",
      "  [179. 221. 178.]\n",
      "  [132. 160. 131.]\n",
      "  [ 11.  11.  11.]]\n",
      "\n",
      " [[ 11.  11.  11.]\n",
      "  [ 11.  11.  11.]\n",
      "  [ 11.  11.  11.]\n",
      "  ...\n",
      "  [188. 244. 203.]\n",
      "  [203. 251. 213.]\n",
      "  [215. 255. 223.]]\n",
      "\n",
      " [[ 11.  11.  11.]\n",
      "  [ 11.  11.  11.]\n",
      "  [ 11.  11.  11.]\n",
      "  ...\n",
      "  [170. 242. 199.]\n",
      "  [187. 255. 214.]\n",
      "  [203. 255. 224.]]\n",
      "\n",
      " ...\n",
      "\n",
      " [[  0.  52.   6.]\n",
      "  [  0.  52.   5.]\n",
      "  [  0.  52.   3.]\n",
      "  ...\n",
      "  [ 11.  11.  11.]\n",
      "  [ 11.  11.  11.]\n",
      "  [ 11.  11.  11.]]\n",
      "\n",
      " [[  0.  52.   5.]\n",
      "  [  0.  53.   5.]\n",
      "  [  0.  53.   5.]\n",
      "  ...\n",
      "  [ 11.  11.  11.]\n",
      "  [ 11.  11.  11.]\n",
      "  [ 11.  11.  11.]]\n",
      "\n",
      " [[  0.  50.   3.]\n",
      "  [  0.  53.   5.]\n",
      "  [  0.  54.   5.]\n",
      "  ...\n",
      "  [ 11.  11.  11.]\n",
      "  [ 11.  11.  11.]\n",
      "  [ 11.  11.  11.]]]\n"
     ]
    }
   ],
   "source": [
    "print(valid_data[0][0][0])"
   ]
  },
  {
   "cell_type": "code",
   "execution_count": 13,
   "id": "86531522",
   "metadata": {
    "execution": {
     "iopub.execute_input": "2023-05-05T13:55:15.813367Z",
     "iopub.status.busy": "2023-05-05T13:55:15.813052Z",
     "iopub.status.idle": "2023-05-05T13:55:15.817841Z",
     "shell.execute_reply": "2023-05-05T13:55:15.816709Z"
    },
    "papermill": {
     "duration": 0.071298,
     "end_time": "2023-05-05T13:55:15.820338",
     "exception": false,
     "start_time": "2023-05-05T13:55:15.749040",
     "status": "completed"
    },
    "tags": []
   },
   "outputs": [],
   "source": [
    "input_shape=(224,224,3)"
   ]
  },
  {
   "cell_type": "code",
   "execution_count": 14,
   "id": "a8f43004",
   "metadata": {
    "execution": {
     "iopub.execute_input": "2023-05-05T13:55:16.036703Z",
     "iopub.status.busy": "2023-05-05T13:55:16.036336Z",
     "iopub.status.idle": "2023-05-05T13:55:18.741936Z",
     "shell.execute_reply": "2023-05-05T13:55:18.738930Z"
    },
    "papermill": {
     "duration": 2.880233,
     "end_time": "2023-05-05T13:55:18.799945",
     "exception": false,
     "start_time": "2023-05-05T13:55:15.919712",
     "status": "completed"
    },
    "tags": []
   },
   "outputs": [
    {
     "name": "stdout",
     "output_type": "stream",
     "text": [
      "Model: \"sequential\"\n",
      "_________________________________________________________________\n",
      " Layer (type)                Output Shape              Param #   \n",
      "=================================================================\n",
      " lambda (Lambda)             (None, 224, 224, 1)       0         \n",
      "                                                                 \n",
      " conv2d (Conv2D)             (None, 110, 110, 16)      416       \n",
      "                                                                 \n",
      " batch_normalization (BatchN  (None, 110, 110, 16)     64        \n",
      " ormalization)                                                   \n",
      "                                                                 \n",
      " max_pooling2d (MaxPooling2D  (None, 55, 55, 16)       0         \n",
      " )                                                               \n",
      "                                                                 \n",
      " dropout (Dropout)           (None, 55, 55, 16)        0         \n",
      "                                                                 \n",
      " conv2d_1 (Conv2D)           (None, 27, 27, 16)        2320      \n",
      "                                                                 \n",
      " batch_normalization_1 (Batc  (None, 27, 27, 16)       64        \n",
      " hNormalization)                                                 \n",
      "                                                                 \n",
      " max_pooling2d_1 (MaxPooling  (None, 13, 13, 16)       0         \n",
      " 2D)                                                             \n",
      "                                                                 \n",
      " dropout_1 (Dropout)         (None, 13, 13, 16)        0         \n",
      "                                                                 \n",
      " conv2d_2 (Conv2D)           (None, 6, 6, 32)          4640      \n",
      "                                                                 \n",
      " batch_normalization_2 (Batc  (None, 6, 6, 32)         128       \n",
      " hNormalization)                                                 \n",
      "                                                                 \n",
      " max_pooling2d_2 (MaxPooling  (None, 3, 3, 32)         0         \n",
      " 2D)                                                             \n",
      "                                                                 \n",
      " dropout_2 (Dropout)         (None, 3, 3, 32)          0         \n",
      "                                                                 \n",
      " flatten (Flatten)           (None, 288)               0         \n",
      "                                                                 \n",
      " dense (Dense)               (None, 64)                18496     \n",
      "                                                                 \n",
      " batch_normalization_3 (Batc  (None, 64)               256       \n",
      " hNormalization)                                                 \n",
      "                                                                 \n",
      " dropout_3 (Dropout)         (None, 64)                0         \n",
      "                                                                 \n",
      " dense_1 (Dense)             (None, 10)                650       \n",
      "                                                                 \n",
      "=================================================================\n",
      "Total params: 27,034\n",
      "Trainable params: 26,778\n",
      "Non-trainable params: 256\n",
      "_________________________________________________________________\n"
     ]
    }
   ],
   "source": [
    "import tensorflow as tf\n",
    "from tensorflow.keras.layers import Lambda\n",
    "model = Sequential()\n",
    "\n",
    "# model.add(Conv2D(filters=64, kernel_size=2, padding='same', activation='relu', input_shape=(224,224,3), kernel_initializer='glorot_normal'))\n",
    "model.add(Lambda(lambda x: tf.image.rgb_to_grayscale(x), input_shape=input_shape))  # convert input images to grayscale\n",
    "\n",
    "model.add(Conv2D(16, (5, 5), strides=(2, 2), padding='valid', activation='relu'))\n",
    "model.add(tf.keras.layers.BatchNormalization())\n",
    "model.add(MaxPooling2D((2, 2), strides=(2, 2)))# add stride 2 to the MaxPooling2D layer\n",
    "model.add(tf.keras.layers.Dropout(0.3))\n",
    "model.add(Conv2D(16, (3, 3), strides=(2, 2), padding='valid', activation='relu'))\n",
    "model.add(tf.keras.layers.BatchNormalization())\n",
    "model.add(MaxPooling2D((2, 2), strides=(2, 2)))\n",
    "model.add(tf.keras.layers.Dropout(0.3))\n",
    "model.add(Conv2D(32, (3, 3), strides=(2, 2), padding='valid', activation='relu'))\n",
    "model.add(tf.keras.layers.BatchNormalization())\n",
    "model.add(MaxPooling2D((2, 2), strides=(2, 2)))\n",
    "model.add(tf.keras.layers.Dropout(0.3))\n",
    "#model.add(Conv2D(64, (3, 3), strides=(1, 1), padding='valid', activation='relu'))\n",
    "#model.add(MaxPooling2D((2, 2), strides=(1, 1)))\n",
    "model.add(Flatten())\n",
    "# Checking this inference section\n",
    "#model.add(Dense(1024, activation='relu'))\n",
    "#model.add(Dense(512, activation='relu'))\n",
    "model.add(Dense(64, activation='relu'))\n",
    "model.add(tf.keras.layers.BatchNormalization())\n",
    "model.add(tf.keras.layers.Dropout(0.3))\n",
    "model.add(Dense(10, activation='softmax'))\n",
    "\n",
    "\n",
    "model.summary()"
   ]
  },
  {
   "cell_type": "code",
   "execution_count": 15,
   "id": "f70bb111",
   "metadata": {
    "execution": {
     "iopub.execute_input": "2023-05-05T13:55:18.936046Z",
     "iopub.status.busy": "2023-05-05T13:55:18.935705Z",
     "iopub.status.idle": "2023-05-05T13:55:18.953081Z",
     "shell.execute_reply": "2023-05-05T13:55:18.952160Z"
    },
    "papermill": {
     "duration": 0.088267,
     "end_time": "2023-05-05T13:55:18.955240",
     "exception": false,
     "start_time": "2023-05-05T13:55:18.866973",
     "status": "completed"
    },
    "tags": []
   },
   "outputs": [],
   "source": [
    "model.compile(optimizer=tf.keras.optimizers.Adam(),\n",
    "              loss=tf.keras.losses.sparse_categorical_crossentropy,\n",
    "              metrics=['accuracy'])"
   ]
  },
  {
   "cell_type": "code",
   "execution_count": 16,
   "id": "fadd6a27",
   "metadata": {
    "execution": {
     "iopub.execute_input": "2023-05-05T13:55:19.089540Z",
     "iopub.status.busy": "2023-05-05T13:55:19.089242Z",
     "iopub.status.idle": "2023-05-05T13:55:19.094374Z",
     "shell.execute_reply": "2023-05-05T13:55:19.093246Z"
    },
    "papermill": {
     "duration": 0.075235,
     "end_time": "2023-05-05T13:55:19.096673",
     "exception": false,
     "start_time": "2023-05-05T13:55:19.021438",
     "status": "completed"
    },
    "tags": []
   },
   "outputs": [],
   "source": [
    "filepath = os.path.join(modelPath,\"distracted-{epoch:02d}-{val_accuracy:.2f}.hdf5\")\n",
    "checkpoint = ModelCheckpoint(filepath, monitor='val_accuracy', verbose=1, save_best_only=True, mode='max')\n",
    "callbacks_list = [checkpoint]"
   ]
  },
  {
   "cell_type": "code",
   "execution_count": 17,
   "id": "9de0c7f4",
   "metadata": {
    "execution": {
     "iopub.execute_input": "2023-05-05T13:55:19.228885Z",
     "iopub.status.busy": "2023-05-05T13:55:19.228593Z",
     "iopub.status.idle": "2023-05-05T15:21:57.376696Z",
     "shell.execute_reply": "2023-05-05T15:21:57.375621Z"
    },
    "papermill": {
     "duration": 5198.217342,
     "end_time": "2023-05-05T15:21:57.379410",
     "exception": false,
     "start_time": "2023-05-05T13:55:19.162068",
     "status": "completed"
    },
    "tags": []
   },
   "outputs": [
    {
     "name": "stdout",
     "output_type": "stream",
     "text": [
      "Epoch 1/20\n"
     ]
    },
    {
     "name": "stderr",
     "output_type": "stream",
     "text": [
      "2023-05-05 13:55:22.685268: E tensorflow/core/grappler/optimizers/meta_optimizer.cc:954] layout failed: INVALID_ARGUMENT: Size of values 0 does not match size of permutation 4 @ fanin shape insequential/dropout/dropout/SelectV2-2-TransposeNHWCToNCHW-LayoutOptimizer\n"
     ]
    },
    {
     "name": "stdout",
     "output_type": "stream",
     "text": [
      "123/123 [==============================] - ETA: 0s - loss: 2.7138 - accuracy: 0.1294\n",
      "Epoch 1: val_accuracy improved from -inf to 0.18686, saving model to /kaggle/working/model/distracted-01-0.19.hdf5\n",
      "123/123 [==============================] - 266s 2s/step - loss: 2.7138 - accuracy: 0.1294 - val_loss: 2.2217 - val_accuracy: 0.1869\n",
      "Epoch 2/20\n",
      "123/123 [==============================] - ETA: 0s - loss: 2.2939 - accuracy: 0.1949\n",
      "Epoch 2: val_accuracy improved from 0.18686 to 0.32857, saving model to /kaggle/working/model/distracted-02-0.33.hdf5\n",
      "123/123 [==============================] - 258s 2s/step - loss: 2.2939 - accuracy: 0.1949 - val_loss: 1.8931 - val_accuracy: 0.3286\n",
      "Epoch 3/20\n",
      "123/123 [==============================] - ETA: 0s - loss: 1.9957 - accuracy: 0.2982\n",
      "Epoch 3: val_accuracy improved from 0.32857 to 0.39875, saving model to /kaggle/working/model/distracted-03-0.40.hdf5\n",
      "123/123 [==============================] - 255s 2s/step - loss: 1.9957 - accuracy: 0.2982 - val_loss: 1.7156 - val_accuracy: 0.3987\n",
      "Epoch 4/20\n",
      "123/123 [==============================] - ETA: 0s - loss: 1.7720 - accuracy: 0.3704\n",
      "Epoch 4: val_accuracy improved from 0.39875 to 0.54001, saving model to /kaggle/working/model/distracted-04-0.54.hdf5\n",
      "123/123 [==============================] - 256s 2s/step - loss: 1.7720 - accuracy: 0.3704 - val_loss: 1.3901 - val_accuracy: 0.5400\n",
      "Epoch 5/20\n",
      "123/123 [==============================] - ETA: 0s - loss: 1.6094 - accuracy: 0.4279\n",
      "Epoch 5: val_accuracy improved from 0.54001 to 0.55789, saving model to /kaggle/working/model/distracted-05-0.56.hdf5\n",
      "123/123 [==============================] - 255s 2s/step - loss: 1.6094 - accuracy: 0.4279 - val_loss: 1.3332 - val_accuracy: 0.5579\n",
      "Epoch 6/20\n",
      "123/123 [==============================] - ETA: 0s - loss: 1.4969 - accuracy: 0.4739\n",
      "Epoch 6: val_accuracy improved from 0.55789 to 0.62986, saving model to /kaggle/working/model/distracted-06-0.63.hdf5\n",
      "123/123 [==============================] - 255s 2s/step - loss: 1.4969 - accuracy: 0.4739 - val_loss: 1.1379 - val_accuracy: 0.6299\n",
      "Epoch 7/20\n",
      "123/123 [==============================] - ETA: 0s - loss: 1.3960 - accuracy: 0.5075\n",
      "Epoch 7: val_accuracy improved from 0.62986 to 0.70809, saving model to /kaggle/working/model/distracted-07-0.71.hdf5\n",
      "123/123 [==============================] - 262s 2s/step - loss: 1.3960 - accuracy: 0.5075 - val_loss: 0.9764 - val_accuracy: 0.7081\n",
      "Epoch 8/20\n",
      "123/123 [==============================] - ETA: 0s - loss: 1.3112 - accuracy: 0.5419\n",
      "Epoch 8: val_accuracy improved from 0.70809 to 0.71927, saving model to /kaggle/working/model/distracted-08-0.72.hdf5\n",
      "123/123 [==============================] - 256s 2s/step - loss: 1.3112 - accuracy: 0.5419 - val_loss: 0.9141 - val_accuracy: 0.7193\n",
      "Epoch 9/20\n",
      "123/123 [==============================] - ETA: 0s - loss: 1.2369 - accuracy: 0.5704\n",
      "Epoch 9: val_accuracy improved from 0.71927 to 0.77336, saving model to /kaggle/working/model/distracted-09-0.77.hdf5\n",
      "123/123 [==============================] - 256s 2s/step - loss: 1.2369 - accuracy: 0.5704 - val_loss: 0.7826 - val_accuracy: 0.7734\n",
      "Epoch 10/20\n",
      "123/123 [==============================] - ETA: 0s - loss: 1.1595 - accuracy: 0.6001\n",
      "Epoch 10: val_accuracy did not improve from 0.77336\n",
      "123/123 [==============================] - 257s 2s/step - loss: 1.1595 - accuracy: 0.6001 - val_loss: 0.7959 - val_accuracy: 0.7564\n",
      "Epoch 11/20\n",
      "123/123 [==============================] - ETA: 0s - loss: 1.1093 - accuracy: 0.6170\n",
      "Epoch 11: val_accuracy did not improve from 0.77336\n",
      "123/123 [==============================] - 256s 2s/step - loss: 1.1093 - accuracy: 0.6170 - val_loss: 0.7942 - val_accuracy: 0.7358\n",
      "Epoch 12/20\n",
      "123/123 [==============================] - ETA: 0s - loss: 1.0626 - accuracy: 0.6380\n",
      "Epoch 12: val_accuracy improved from 0.77336 to 0.82477, saving model to /kaggle/working/model/distracted-12-0.82.hdf5\n",
      "123/123 [==============================] - 256s 2s/step - loss: 1.0626 - accuracy: 0.6380 - val_loss: 0.6276 - val_accuracy: 0.8248\n",
      "Epoch 13/20\n",
      "123/123 [==============================] - ETA: 0s - loss: 1.0009 - accuracy: 0.6580\n",
      "Epoch 13: val_accuracy did not improve from 0.82477\n",
      "123/123 [==============================] - 256s 2s/step - loss: 1.0009 - accuracy: 0.6580 - val_loss: 0.7274 - val_accuracy: 0.7604\n",
      "Epoch 14/20\n",
      "123/123 [==============================] - ETA: 0s - loss: 0.9723 - accuracy: 0.6666\n",
      "Epoch 14: val_accuracy did not improve from 0.82477\n",
      "123/123 [==============================] - 256s 2s/step - loss: 0.9723 - accuracy: 0.6666 - val_loss: 0.5798 - val_accuracy: 0.8212\n",
      "Epoch 15/20\n",
      "123/123 [==============================] - ETA: 0s - loss: 0.9328 - accuracy: 0.6837\n",
      "Epoch 15: val_accuracy improved from 0.82477 to 0.82924, saving model to /kaggle/working/model/distracted-15-0.83.hdf5\n",
      "123/123 [==============================] - 255s 2s/step - loss: 0.9328 - accuracy: 0.6837 - val_loss: 0.5595 - val_accuracy: 0.8292\n",
      "Epoch 16/20\n",
      "123/123 [==============================] - ETA: 0s - loss: 0.8920 - accuracy: 0.6965\n",
      "Epoch 16: val_accuracy improved from 0.82924 to 0.85338, saving model to /kaggle/working/model/distracted-16-0.85.hdf5\n",
      "123/123 [==============================] - 259s 2s/step - loss: 0.8920 - accuracy: 0.6965 - val_loss: 0.5301 - val_accuracy: 0.8534\n",
      "Epoch 17/20\n",
      "123/123 [==============================] - ETA: 0s - loss: 0.8694 - accuracy: 0.7072\n",
      "Epoch 17: val_accuracy improved from 0.85338 to 0.86857, saving model to /kaggle/working/model/distracted-17-0.87.hdf5\n",
      "123/123 [==============================] - 257s 2s/step - loss: 0.8694 - accuracy: 0.7072 - val_loss: 0.4526 - val_accuracy: 0.8686\n",
      "Epoch 18/20\n",
      "123/123 [==============================] - ETA: 0s - loss: 0.8490 - accuracy: 0.7108\n",
      "Epoch 18: val_accuracy did not improve from 0.86857\n",
      "123/123 [==============================] - 257s 2s/step - loss: 0.8490 - accuracy: 0.7108 - val_loss: 0.5279 - val_accuracy: 0.8292\n",
      "Epoch 19/20\n",
      "123/123 [==============================] - ETA: 0s - loss: 0.8175 - accuracy: 0.7244\n",
      "Epoch 19: val_accuracy improved from 0.86857 to 0.89361, saving model to /kaggle/working/model/distracted-19-0.89.hdf5\n",
      "123/123 [==============================] - 256s 2s/step - loss: 0.8175 - accuracy: 0.7244 - val_loss: 0.3787 - val_accuracy: 0.8936\n",
      "Epoch 20/20\n",
      "123/123 [==============================] - ETA: 0s - loss: 0.7895 - accuracy: 0.7348\n",
      "Epoch 20: val_accuracy did not improve from 0.89361\n",
      "123/123 [==============================] - 258s 2s/step - loss: 0.7895 - accuracy: 0.7348 - val_loss: 0.4420 - val_accuracy: 0.8570\n"
     ]
    }
   ],
   "source": [
    "model_history = model.fit(train_data,validation_data = valid_data,epochs=20,shuffle=True,callbacks=callbacks_list)"
   ]
  },
  {
   "cell_type": "code",
   "execution_count": 18,
   "id": "c47daa59",
   "metadata": {
    "execution": {
     "iopub.execute_input": "2023-05-05T15:21:57.781025Z",
     "iopub.status.busy": "2023-05-05T15:21:57.780625Z",
     "iopub.status.idle": "2023-05-05T15:21:58.318948Z",
     "shell.execute_reply": "2023-05-05T15:21:58.317811Z"
    },
    "papermill": {
     "duration": 0.742948,
     "end_time": "2023-05-05T15:21:58.321329",
     "exception": false,
     "start_time": "2023-05-05T15:21:57.578381",
     "status": "completed"
    },
    "tags": []
   },
   "outputs": [
    {
     "data": {
      "image/png": "[encoded data removed]",
      "text/plain": [
       "<Figure size 1200x1200 with 2 Axes>"
      ]
     },
     "metadata": {},
     "output_type": "display_data"
    }
   ],
   "source": [
    "fig, (ax1, ax2) = plt.subplots(2, 1, figsize=(12, 12))\n",
    "ax1.plot(model_history.history['loss'], color='b', label=\"Training loss\")\n",
    "ax1.plot(model_history.history['val_loss'], color='r', label=\"validation loss\")\n",
    "ax1.set_xticks(np.arange(1, 25, 1))\n",
    "ax1.set_yticks(np.arange(0, 1, 0.1))\n",
    "\n",
    "ax2.plot(model_history.history['accuracy'], color='b', label=\"Training accuracy\")\n",
    "ax2.plot(model_history.history['val_accuracy'], color='r',label=\"Validation accuracy\")\n",
    "ax2.set_xticks(np.arange(1, 25, 1))\n",
    "\n",
    "legend = plt.legend(loc='best', shadow=True)\n",
    "plt.tight_layout()\n",
    "plt.show()"
   ]
  },
  {
   "cell_type": "code",
   "execution_count": 19,
   "id": "2a3041b5",
   "metadata": {
    "execution": {
     "iopub.execute_input": "2023-05-05T15:21:58.779914Z",
     "iopub.status.busy": "2023-05-05T15:21:58.779208Z",
     "iopub.status.idle": "2023-05-05T15:22:40.678854Z",
     "shell.execute_reply": "2023-05-05T15:22:40.677855Z"
    },
    "papermill": {
     "duration": 42.105142,
     "end_time": "2023-05-05T15:22:40.681322",
     "exception": false,
     "start_time": "2023-05-05T15:21:58.576180",
     "status": "completed"
    },
    "tags": []
   },
   "outputs": [
    {
     "name": "stdout",
     "output_type": "stream",
     "text": [
      "36/36 [==============================] - 30s 820ms/step - loss: 0.4475 - accuracy: 0.8625\n"
     ]
    },
    {
     "data": {
      "text/plain": [
       "[0.4474848210811615, 0.8625138998031616]"
      ]
     },
     "execution_count": 19,
     "metadata": {},
     "output_type": "execute_result"
    }
   ],
   "source": [
    "model.evaluate(test_data)"
   ]
  },
  {
   "cell_type": "code",
   "execution_count": 20,
   "id": "c067f1ce",
   "metadata": {
    "execution": {
     "iopub.execute_input": "2023-05-05T15:22:41.083070Z",
     "iopub.status.busy": "2023-05-05T15:22:41.082013Z",
     "iopub.status.idle": "2023-05-05T15:23:07.984054Z",
     "shell.execute_reply": "2023-05-05T15:23:07.982942Z"
    },
    "papermill": {
     "duration": 27.105478,
     "end_time": "2023-05-05T15:23:07.987111",
     "exception": false,
     "start_time": "2023-05-05T15:22:40.881633",
     "status": "completed"
    },
    "tags": []
   },
   "outputs": [],
   "source": [
    "num_samples = test_data.samples\n",
    "batch_size = test_data.batch_size\n",
    "\n",
    "# Initialize empty arrays to store X_test and y_test\n",
    "X_test = np.empty(shape=(num_samples, 224, 224, 3), dtype=np.float32)\n",
    "y_test = np.empty(shape=(num_samples,), dtype=np.int32)\n",
    "\n",
    "# Loop through all batches in the test set and concatenate the results\n",
    "for i in range(num_samples // batch_size + 1):\n",
    "    batch_X, batch_y = test_data.next()\n",
    "    start_idx = i * batch_size\n",
    "    end_idx = min(start_idx + batch_size, num_samples)\n",
    "    X_test[start_idx:end_idx] = batch_X\n",
    "    y_test[start_idx:end_idx] = batch_y.ravel()"
   ]
  },
  {
   "cell_type": "code",
   "execution_count": 21,
   "id": "f7027763",
   "metadata": {
    "execution": {
     "iopub.execute_input": "2023-05-05T15:23:08.391932Z",
     "iopub.status.busy": "2023-05-05T15:23:08.391557Z",
     "iopub.status.idle": "2023-05-05T15:23:15.700495Z",
     "shell.execute_reply": "2023-05-05T15:23:15.699446Z"
    },
    "papermill": {
     "duration": 7.514131,
     "end_time": "2023-05-05T15:23:15.703232",
     "exception": false,
     "start_time": "2023-05-05T15:23:08.189101",
     "status": "completed"
    },
    "tags": []
   },
   "outputs": [
    {
     "name": "stdout",
     "output_type": "stream",
     "text": [
      "141/141 [==============================] - 2s 13ms/step\n"
     ]
    }
   ],
   "source": [
    "y_pred = model.predict(X_test)"
   ]
  },
  {
   "cell_type": "code",
   "execution_count": 22,
   "id": "df80d970",
   "metadata": {
    "execution": {
     "iopub.execute_input": "2023-05-05T15:23:16.228006Z",
     "iopub.status.busy": "2023-05-05T15:23:16.226933Z",
     "iopub.status.idle": "2023-05-05T15:23:16.232704Z",
     "shell.execute_reply": "2023-05-05T15:23:16.231695Z"
    },
    "papermill": {
     "duration": 0.284453,
     "end_time": "2023-05-05T15:23:16.234839",
     "exception": false,
     "start_time": "2023-05-05T15:23:15.950386",
     "status": "completed"
    },
    "tags": []
   },
   "outputs": [],
   "source": [
    "y_pred1 = np.argmax(y_pred,axis=1)"
   ]
  },
  {
   "cell_type": "code",
   "execution_count": 23,
   "id": "7a8bbebe",
   "metadata": {
    "execution": {
     "iopub.execute_input": "2023-05-05T15:23:16.692772Z",
     "iopub.status.busy": "2023-05-05T15:23:16.691767Z",
     "iopub.status.idle": "2023-05-05T15:23:16.701708Z",
     "shell.execute_reply": "2023-05-05T15:23:16.700594Z"
    },
    "papermill": {
     "duration": 0.215686,
     "end_time": "2023-05-05T15:23:16.704311",
     "exception": false,
     "start_time": "2023-05-05T15:23:16.488625",
     "status": "completed"
    },
    "tags": []
   },
   "outputs": [
    {
     "name": "stdout",
     "output_type": "stream",
     "text": [
      "[[423   1  17  41   3   3   1   0   0  10]\n",
      " [  1 429  20   5   0   0   0   0   0   0]\n",
      " [  0   0 465   0   0   0   0   0   0   0]\n",
      " [  5   0   4 459   1   0   0   0   0   1]\n",
      " [  9   0  18   8 430   0   0   0   0   1]\n",
      " [  5   0   0   0   0 457   0   0   0   1]\n",
      " [  2  23  84   0   4   0 347   2   2   2]\n",
      " [  1   1  16   0   1   0   0 380   0   2]\n",
      " [ 18  11 125   8  11   1  18  17 161  13]\n",
      " [ 70   4   9  10   5  10   0   3   0 316]]\n"
     ]
    }
   ],
   "source": [
    "from sklearn.metrics import confusion_matrix\n",
    " \n",
    "cm1 = confusion_matrix(y_test, y_pred1)\n",
    "print(cm1)"
   ]
  },
  {
   "cell_type": "code",
   "execution_count": 24,
   "id": "c8972e6d",
   "metadata": {
    "execution": {
     "iopub.execute_input": "2023-05-05T15:23:17.138518Z",
     "iopub.status.busy": "2023-05-05T15:23:17.137290Z",
     "iopub.status.idle": "2023-05-05T15:23:17.146529Z",
     "shell.execute_reply": "2023-05-05T15:23:17.145547Z"
    },
    "papermill": {
     "duration": 0.243673,
     "end_time": "2023-05-05T15:23:17.148700",
     "exception": false,
     "start_time": "2023-05-05T15:23:16.905027",
     "status": "completed"
    },
    "tags": []
   },
   "outputs": [
    {
     "data": {
      "text/plain": [
       "0.8602892102335928"
      ]
     },
     "execution_count": 24,
     "metadata": {},
     "output_type": "execute_result"
    }
   ],
   "source": [
    "from sklearn.metrics import accuracy_score\n",
    "accuracy_score(y_test, y_pred1)"
   ]
  }
 ],
 "metadata": {
  "kernelspec": {
   "display_name": "Python 3",
   "language": "python",
   "name": "python3"
  },
  "language_info": {
   "codemirror_mode": {
    "name": "ipython",
    "version": 3
   },
   "file_extension": ".py",
   "mimetype": "text/x-python",
   "name": "python",
   "nbconvert_exporter": "python",
   "pygments_lexer": "ipython3",
   "version": "3.7.12"
  },
  "papermill": {
   "default_parameters": {},
   "duration": 5469.504744,
   "end_time": "2023-05-05T15:23:20.691319",
   "environment_variables": {},
   "exception": null,
   "input_path": "__notebook__.ipynb",
   "output_path": "__notebook__.ipynb",
   "parameters": {},
   "start_time": "2023-05-05T13:52:11.186575",
   "version": "2.4.0"
  }
 },
 "nbformat": 4,
 "nbformat_minor": 5
}
