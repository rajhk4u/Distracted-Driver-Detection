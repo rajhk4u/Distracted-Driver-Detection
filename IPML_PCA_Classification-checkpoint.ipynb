{
 "cells": [
  {
   "cell_type": "code",
   "execution_count": 3,
   "id": "5168c52e",
   "metadata": {},
   "outputs": [],
   "source": [
    "import numpy as np"
   ]
  },
  {
   "cell_type": "code",
   "execution_count": 4,
   "id": "93753127",
   "metadata": {},
   "outputs": [],
   "source": [
    "eigen_values = np.load('C:/Users/PDL LAB17/Desktop/IPML_raj_katkar/eig_values_1.npy')"
   ]
  },
  {
   "cell_type": "code",
   "execution_count": 5,
   "id": "62d30c39",
   "metadata": {},
   "outputs": [],
   "source": [
    "eigen_vectors = np.load('C:/Users/PDL LAB17/Desktop/IPML_raj_katkar/eig_vectors_1.npy')"
   ]
  },
  {
   "cell_type": "code",
   "execution_count": 6,
   "id": "2a84b0bc",
   "metadata": {},
   "outputs": [
    {
     "name": "stdout",
     "output_type": "stream",
     "text": [
      "(22860, 22860)\n",
      "(22860,)\n"
     ]
    }
   ],
   "source": [
    "print(eigen_vectors.shape)\n",
    "print(eigen_values.shape)"
   ]
  },
  {
   "cell_type": "code",
   "execution_count": 7,
   "id": "e1b90b45",
   "metadata": {},
   "outputs": [
    {
     "name": "stdout",
     "output_type": "stream",
     "text": [
      "[ -1.2311611  -1.2277523  -1.2260431 ...   1.2283589   1.229796\n",
      " 160.58165  ]\n"
     ]
    }
   ],
   "source": [
    "print(eigen_values)"
   ]
  },
  {
   "cell_type": "code",
   "execution_count": 8,
   "id": "5408e69f",
   "metadata": {},
   "outputs": [
    {
     "name": "stdout",
     "output_type": "stream",
     "text": [
      "[[-8.0555044e-03  9.1236467e-03 -3.9888136e-03 ... -5.2905730e-03\n",
      "   1.4294059e-02  6.6192057e-03]\n",
      " [-9.6453540e-04  2.8413800e-03  7.4169966e-03 ... -5.1074689e-03\n",
      "   1.3262313e-03  6.6135526e-03]\n",
      " [-9.4314190e-03 -6.2000733e-03  1.8839445e-03 ... -2.5880570e-03\n",
      "  -2.3294184e-03  6.6084266e-03]\n",
      " ...\n",
      " [ 1.5669797e-03 -3.5238930e-03  9.7422972e-03 ...  8.6778804e-05\n",
      "  -7.5723305e-03  6.5973802e-03]\n",
      " [ 5.3078090e-03  1.0352592e-02  5.6625297e-04 ... -3.4211599e-03\n",
      "   8.6505460e-03  6.6133547e-03]\n",
      " [ 3.7231985e-05 -1.9158061e-03 -9.3621938e-03 ...  4.4245494e-04\n",
      "   1.8528271e-02  6.5937573e-03]]\n"
     ]
    }
   ],
   "source": [
    "print(eigen_vectors)"
   ]
  },
  {
   "cell_type": "code",
   "execution_count": 10,
   "id": "2ac9b0dc",
   "metadata": {},
   "outputs": [],
   "source": [
    "sorted_indices = np.argsort(eigen_values)[::-1]\n",
    "sorted_eigenvalues = eigen_values[sorted_indices]\n",
    "sorted_eigenvectors = eigen_vectors[:, sorted_indices]"
   ]
  },
  {
   "cell_type": "code",
   "execution_count": 15,
   "id": "b2c55478",
   "metadata": {},
   "outputs": [],
   "source": [
    "PC = sorted_eigenvectors[:,:200]"
   ]
  },
  {
   "cell_type": "code",
   "execution_count": 16,
   "id": "9bad3f7d",
   "metadata": {},
   "outputs": [
    {
     "data": {
      "text/plain": [
       "(22860, 200)"
      ]
     },
     "execution_count": 16,
     "metadata": {},
     "output_type": "execute_result"
    }
   ],
   "source": [
    "PC.shape"
   ]
  },
  {
   "cell_type": "code",
   "execution_count": 18,
   "id": "b22d9e4f",
   "metadata": {},
   "outputs": [],
   "source": [
    "X_train = np.load('C:/Users/PDL LAB17/Desktop/IPML_raj_katkar/X_third_train.npy')\n",
    "X_test = np.load('C:/Users/PDL LAB17/Desktop/IPML_raj_katkar/X_third_test.npy')\n",
    "y_train = np.load('C:/Users/PDL LAB17/Desktop/IPML_raj_katkar/Y_train.npy')\n",
    "y_test = np.load('C:/Users/PDL LAB17/Desktop/IPML_raj_katkar/Y_test.npy')"
   ]
  },
  {
   "cell_type": "code",
   "execution_count": 19,
   "id": "e1c83c88",
   "metadata": {},
   "outputs": [
    {
     "data": {
      "text/plain": [
       "KNeighborsClassifier(n_neighbors=51)"
      ]
     },
     "execution_count": 19,
     "metadata": {},
     "output_type": "execute_result"
    }
   ],
   "source": [
    "from sklearn.neighbors import KNeighborsClassifier\n",
    "Knn = KNeighborsClassifier(n_neighbors=51)\n",
    "Knn.fit(X_train, y_train)"
   ]
  },
  {
   "cell_type": "code",
   "execution_count": 20,
   "id": "0b20ff42",
   "metadata": {},
   "outputs": [],
   "source": [
    "y_pred = Knn.predict(X_test)"
   ]
  },
  {
   "cell_type": "code",
   "execution_count": 21,
   "id": "9f257b48",
   "metadata": {},
   "outputs": [],
   "source": [
    "from sklearn.metrics import confusion_matrix\n",
    " \n",
    "cm = confusion_matrix(y_test, y_pred)"
   ]
  },
  {
   "cell_type": "code",
   "execution_count": 22,
   "id": "0882d300",
   "metadata": {},
   "outputs": [
    {
     "name": "stdout",
     "output_type": "stream",
     "text": [
      "[[446   0  12   0   1   8   0   2   0   2]\n",
      " [  0  59   1 144 132   0   0  81   0  83]\n",
      " [  1   1 465   1   1   0   4   0   0   0]\n",
      " [  0 126   0  44 126   0   0  88   0  85]\n",
      " [  0 132   1 124  35   0   0  78   0  70]\n",
      " [  5   0   3   0   0 449   2   2   0   0]\n",
      " [  3   0  13   1   1   5 441   0   1   0]\n",
      " [  0 108   1 128 125   0   0  25   0  63]\n",
      " [ 16   0  49   0   1   9  15   0 292   0]\n",
      " [  0 136   0 102  96   0   0  75   0  18]]\n"
     ]
    }
   ],
   "source": [
    "print(cm)"
   ]
  },
  {
   "cell_type": "code",
   "execution_count": 23,
   "id": "b8125d08",
   "metadata": {},
   "outputs": [
    {
     "data": {
      "text/plain": [
       "0.50110180696342"
      ]
     },
     "execution_count": 23,
     "metadata": {},
     "output_type": "execute_result"
    }
   ],
   "source": [
    "from sklearn.metrics import accuracy_score\n",
    "accuracy_score(y_test, y_pred)"
   ]
  }
 ],
 "metadata": {
  "kernelspec": {
   "display_name": "Python 3 (ipykernel)",
   "language": "python",
   "name": "python3"
  },
  "language_info": {
   "codemirror_mode": {
    "name": "ipython",
    "version": 3
   },
   "file_extension": ".py",
   "mimetype": "text/x-python",
   "name": "python",
   "nbconvert_exporter": "python",
   "pygments_lexer": "ipython3",
   "version": "3.9.12"
  }
 },
 "nbformat": 4,
 "nbformat_minor": 5
}
